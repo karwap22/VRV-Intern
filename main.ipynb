{
 "cells": [
  {
   "cell_type": "markdown",
   "metadata": {},
   "source": [
    "# Parsing File and Taking Input"
   ]
  },
  {
   "cell_type": "code",
   "execution_count": 3,
   "metadata": {},
   "outputs": [],
   "source": [
    "import os\n",
    "from tkinter import Tk\n",
    "from tkinter.filedialog import askopenfilename\n",
    "import pandas as pd\n",
    "import fileinput\n",
    "import csv"
   ]
  },
  {
   "cell_type": "code",
   "execution_count": 4,
   "metadata": {},
   "outputs": [
    {
     "name": "stderr",
     "output_type": "stream",
     "text": [
      "2024-12-06 20:34:10.160 Python[32576:1740849] WARNING: Secure coding is not enabled for restorable state! Enable secure coding by implementing NSApplicationDelegate.applicationSupportsSecureRestorableState: and returning YES.\n"
     ]
    },
    {
     "name": "stdout",
     "output_type": "stream",
     "text": [
      "Selected file: /Users/paawankarwa/Desktop/projects/VRV Intern/sample.log\n"
     ]
    }
   ],
   "source": [
    "\n",
    "\n",
    "def get_log_file():\n",
    "    Tk().withdraw()\n",
    "\n",
    "    file_path = askopenfilename(\n",
    "        title=\"Select a .log file\",\n",
    "        filetypes=[(\"Log Files\", \"*.log\"), (\"All Files\", \"*.*\")]\n",
    "    )\n",
    "\n",
    "    # Use sample.log if no file is selected\n",
    "    if not file_path:\n",
    "        current_dir = os.path.dirname(os.path.abspath(__file__))\n",
    "        file_path = os.path.join(current_dir, \"sample.log\")\n",
    "        \n",
    "    return file_path\n",
    "\n",
    "\n",
    "log_file = get_log_file()\n",
    "print(f\"Selected file: {log_file}\")\n"
   ]
  },
  {
   "cell_type": "code",
   "execution_count": 5,
   "metadata": {},
   "outputs": [],
   "source": [
    "def sortDictionary(freq:dict,reverse=False):\n",
    "    return {k: v for k, v in sorted(freq.items(), key=lambda item: item[1],reverse=reverse)}"
   ]
  },
  {
   "cell_type": "code",
   "execution_count": 6,
   "metadata": {},
   "outputs": [],
   "source": [
    "def makeDFfromDict(freq:dict,columns:list):\n",
    "    return pd.DataFrame(list(freq.items()),columns=columns)"
   ]
  },
  {
   "cell_type": "code",
   "execution_count": null,
   "metadata": {},
   "outputs": [
    {
     "data": {
      "text/plain": [
       "[['192.168.1.1',\n",
       "  '[03/Dec/2024:10:12:34 +0000]',\n",
       "  '\"GET',\n",
       "  '/home',\n",
       "  'HTTP/1.1\"',\n",
       "  '200'],\n",
       " ['203.0.113.5',\n",
       "  '[03/Dec/2024:10:12:35 +0000]',\n",
       "  '\"POST',\n",
       "  '/login',\n",
       "  'HTTP/1.1\"',\n",
       "  '401',\n",
       "  '128',\n",
       "  '\"Invalid credentials\"\\n'],\n",
       " ['10.0.0.2',\n",
       "  '[03/Dec/2024:10:12:36 +0000]',\n",
       "  '\"GET',\n",
       "  '/about',\n",
       "  'HTTP/1.1\"',\n",
       "  '200'],\n",
       " ['192.168.1.1',\n",
       "  '[03/Dec/2024:10:12:37 +0000]',\n",
       "  '\"GET',\n",
       "  '/contact',\n",
       "  'HTTP/1.1\"',\n",
       "  '200'],\n",
       " ['198.51.100.23',\n",
       "  '[03/Dec/2024:10:12:38 +0000]',\n",
       "  '\"POST',\n",
       "  '/register',\n",
       "  'HTTP/1.1\"',\n",
       "  '200'],\n",
       " ['203.0.113.5',\n",
       "  '[03/Dec/2024:10:12:39 +0000]',\n",
       "  '\"POST',\n",
       "  '/login',\n",
       "  'HTTP/1.1\"',\n",
       "  '401',\n",
       "  '128',\n",
       "  '\"Invalid credentials\"\\n'],\n",
       " ['192.168.1.100',\n",
       "  '[03/Dec/2024:10:12:40 +0000]',\n",
       "  '\"POST',\n",
       "  '/login',\n",
       "  'HTTP/1.1\"',\n",
       "  '401',\n",
       "  '128',\n",
       "  '\"Invalid credentials\"\\n'],\n",
       " ['10.0.0.2',\n",
       "  '[03/Dec/2024:10:12:41 +0000]',\n",
       "  '\"GET',\n",
       "  '/dashboard',\n",
       "  'HTTP/1.1\"',\n",
       "  '200'],\n",
       " ['198.51.100.23',\n",
       "  '[03/Dec/2024:10:12:42 +0000]',\n",
       "  '\"GET',\n",
       "  '/about',\n",
       "  'HTTP/1.1\"',\n",
       "  '200'],\n",
       " ['192.168.1.1',\n",
       "  '[03/Dec/2024:10:12:43 +0000]',\n",
       "  '\"GET',\n",
       "  '/dashboard',\n",
       "  'HTTP/1.1\"',\n",
       "  '200'],\n",
       " ['203.0.113.5',\n",
       "  '[03/Dec/2024:10:12:44 +0000]',\n",
       "  '\"POST',\n",
       "  '/login',\n",
       "  'HTTP/1.1\"',\n",
       "  '401',\n",
       "  '128',\n",
       "  '\"Invalid credentials\"\\n'],\n",
       " ['203.0.113.5',\n",
       "  '[03/Dec/2024:10:12:45 +0000]',\n",
       "  '\"POST',\n",
       "  '/login',\n",
       "  'HTTP/1.1\"',\n",
       "  '401',\n",
       "  '128',\n",
       "  '\"Invalid credentials\"\\n'],\n",
       " ['192.168.1.100',\n",
       "  '[03/Dec/2024:10:12:46 +0000]',\n",
       "  '\"POST',\n",
       "  '/login',\n",
       "  'HTTP/1.1\"',\n",
       "  '401',\n",
       "  '128',\n",
       "  '\"Invalid credentials\"\\n'],\n",
       " ['10.0.0.2',\n",
       "  '[03/Dec/2024:10:12:47 +0000]',\n",
       "  '\"GET',\n",
       "  '/profile',\n",
       "  'HTTP/1.1\"',\n",
       "  '200'],\n",
       " ['192.168.1.1',\n",
       "  '[03/Dec/2024:10:12:48 +0000]',\n",
       "  '\"GET',\n",
       "  '/home',\n",
       "  'HTTP/1.1\"',\n",
       "  '200'],\n",
       " ['198.51.100.23',\n",
       "  '[03/Dec/2024:10:12:49 +0000]',\n",
       "  '\"POST',\n",
       "  '/feedback',\n",
       "  'HTTP/1.1\"',\n",
       "  '200'],\n",
       " ['203.0.113.5',\n",
       "  '[03/Dec/2024:10:12:50 +0000]',\n",
       "  '\"POST',\n",
       "  '/login',\n",
       "  'HTTP/1.1\"',\n",
       "  '401',\n",
       "  '128',\n",
       "  '\"Invalid credentials\"\\n'],\n",
       " ['192.168.1.1',\n",
       "  '[03/Dec/2024:10:12:51 +0000]',\n",
       "  '\"GET',\n",
       "  '/home',\n",
       "  'HTTP/1.1\"',\n",
       "  '200'],\n",
       " ['198.51.100.23',\n",
       "  '[03/Dec/2024:10:12:52 +0000]',\n",
       "  '\"GET',\n",
       "  '/about',\n",
       "  'HTTP/1.1\"',\n",
       "  '200'],\n",
       " ['203.0.113.5',\n",
       "  '[03/Dec/2024:10:12:53 +0000]',\n",
       "  '\"POST',\n",
       "  '/login',\n",
       "  'HTTP/1.1\"',\n",
       "  '401',\n",
       "  '128',\n",
       "  '\"Invalid credentials\"\\n'],\n",
       " ['192.168.1.100',\n",
       "  '[03/Dec/2024:10:12:54 +0000]',\n",
       "  '\"POST',\n",
       "  '/login',\n",
       "  'HTTP/1.1\"',\n",
       "  '401',\n",
       "  '128',\n",
       "  '\"Invalid credentials\"\\n'],\n",
       " ['10.0.0.2',\n",
       "  '[03/Dec/2024:10:12:55 +0000]',\n",
       "  '\"GET',\n",
       "  '/contact',\n",
       "  'HTTP/1.1\"',\n",
       "  '200'],\n",
       " ['198.51.100.23',\n",
       "  '[03/Dec/2024:10:12:56 +0000]',\n",
       "  '\"GET',\n",
       "  '/home',\n",
       "  'HTTP/1.1\"',\n",
       "  '200'],\n",
       " ['192.168.1.100',\n",
       "  '[03/Dec/2024:10:12:57 +0000]',\n",
       "  '\"POST',\n",
       "  '/login',\n",
       "  'HTTP/1.1\"',\n",
       "  '401',\n",
       "  '128',\n",
       "  '\"Invalid credentials\"\\n'],\n",
       " ['203.0.113.5',\n",
       "  '[03/Dec/2024:10:12:58 +0000]',\n",
       "  '\"POST',\n",
       "  '/login',\n",
       "  'HTTP/1.1\"',\n",
       "  '401',\n",
       "  '128',\n",
       "  '\"Invalid credentials\"\\n'],\n",
       " ['10.0.0.2',\n",
       "  '[03/Dec/2024:10:12:59 +0000]',\n",
       "  '\"GET',\n",
       "  '/dashboard',\n",
       "  'HTTP/1.1\"',\n",
       "  '200'],\n",
       " ['192.168.1.1',\n",
       "  '[03/Dec/2024:10:13:00 +0000]',\n",
       "  '\"GET',\n",
       "  '/about',\n",
       "  'HTTP/1.1\"',\n",
       "  '200'],\n",
       " ['198.51.100.23',\n",
       "  '[03/Dec/2024:10:13:01 +0000]',\n",
       "  '\"POST',\n",
       "  '/register',\n",
       "  'HTTP/1.1\"',\n",
       "  '200'],\n",
       " ['203.0.113.5',\n",
       "  '[03/Dec/2024:10:13:02 +0000]',\n",
       "  '\"POST',\n",
       "  '/login',\n",
       "  'HTTP/1.1\"',\n",
       "  '401',\n",
       "  '128',\n",
       "  '\"Invalid credentials\"\\n'],\n",
       " ['192.168.1.100',\n",
       "  '[03/Dec/2024:10:13:03 +0000]',\n",
       "  '\"POST',\n",
       "  '/login',\n",
       "  'HTTP/1.1\"',\n",
       "  '401',\n",
       "  '128',\n",
       "  '\"Invalid credentials\"\\n'],\n",
       " ['10.0.0.2',\n",
       "  '[03/Dec/2024:10:13:04 +0000]',\n",
       "  '\"GET',\n",
       "  '/profile',\n",
       "  'HTTP/1.1\"',\n",
       "  '200'],\n",
       " ['198.51.100.23',\n",
       "  '[03/Dec/2024:10:13:05 +0000]',\n",
       "  '\"GET',\n",
       "  '/about',\n",
       "  'HTTP/1.1\"',\n",
       "  '200'],\n",
       " ['192.168.1.1',\n",
       "  '[03/Dec/2024:10:13:06 +0000]',\n",
       "  '\"GET',\n",
       "  '/home',\n",
       "  'HTTP/1.1\"',\n",
       "  '200'],\n",
       " ['198.51.100.23',\n",
       "  '[03/Dec/2024:10:13:07 +0000]',\n",
       "  '\"POST',\n",
       "  '/feedback',\n",
       "  'HTTP/1.1\"',\n",
       "  '200']]"
      ]
     },
     "execution_count": 7,
     "metadata": {},
     "output_type": "execute_result"
    }
   ],
   "source": [
    "\n",
    "filename = log_file\n",
    "fileContent = []\n",
    "\n",
    "for line in fileinput.input(files=filename):\n",
    "    stringAdded = line.split(' ')\n",
    "    stringAdded.remove('-')\n",
    "    stringAdded.remove('-')\n",
    "    stringAdded[1] += ' '+stringAdded[2]\n",
    "    stringAdded.pop(2)\n",
    "    if stringAdded[len(stringAdded)-2] == '\"Invalid':\n",
    "        stringAdded[len(stringAdded)-2] += ' '+stringAdded[len(stringAdded)-1]\n",
    "    stringAdded.pop(len(stringAdded)-1)\n",
    "    fileContent.append(stringAdded)\n",
    "\n",
    "# fileContent\n"
   ]
  },
  {
   "cell_type": "markdown",
   "metadata": {},
   "source": [
    "# 1. Count Requests per IP Address:"
   ]
  },
  {
   "cell_type": "code",
   "execution_count": 8,
   "metadata": {},
   "outputs": [],
   "source": [
    "freq = {}\n",
    "for stringAdded in fileContent:\n",
    "    if stringAdded[0] in freq.keys():\n",
    "        freq[stringAdded[0]] +=1\n",
    "    else:\n",
    "        freq[stringAdded[0]] = 1\n",
    "reqIPfreq = sortDictionary(freq,reverse=True)\n",
    "\n",
    "\n",
    "\n"
   ]
  },
  {
   "cell_type": "code",
   "execution_count": 9,
   "metadata": {},
   "outputs": [
    {
     "name": "stdout",
     "output_type": "stream",
     "text": [
      "\n",
      "IP Address \t Request Count\n",
      "203.0.113.5 \t 8\n",
      "198.51.100.23 \t 8\n",
      "192.168.1.1 \t 7\n",
      "10.0.0.2 \t 6\n",
      "192.168.1.100 \t 5\n"
     ]
    }
   ],
   "source": [
    "print(\"\\nIP Address\",\"\\t\",\"Request Count\")\n",
    "for i in reqIPfreq:\n",
    "    print(i,\"\\t\",reqIPfreq[i])"
   ]
  },
  {
   "cell_type": "markdown",
   "metadata": {},
   "source": [
    "# 2. Identify the Most Frequently Accessed Endpoint:"
   ]
  },
  {
   "cell_type": "code",
   "execution_count": 10,
   "metadata": {},
   "outputs": [
    {
     "name": "stdout",
     "output_type": "stream",
     "text": [
      "\n",
      "Most Frequently Accessed Endpoint:\n",
      "/login Accessed 13 times\n"
     ]
    }
   ],
   "source": [
    "urlFreq = {}\n",
    "\n",
    "\n",
    "for req in fileContent:\n",
    "    url = req[3]\n",
    "    if url in urlFreq.keys():\n",
    "        urlFreq[url] +=1\n",
    "    else:\n",
    "        urlFreq[url] = 1\n",
    "urlFreq = sortDictionary(urlFreq,reverse=True)\n",
    "ls = list(urlFreq.keys())\n",
    "for i in range(1,len(ls)):\n",
    "    urlFreq.pop(ls[i])\n",
    "print(\"\\nMost Frequently Accessed Endpoint:\")\n",
    "print(list(urlFreq.keys())[0],\"Accessed\",urlFreq[list(urlFreq.keys())[0]],\"times\")\n"
   ]
  },
  {
   "cell_type": "markdown",
   "metadata": {},
   "source": [
    "# 3. Detect Suspicious Activity:"
   ]
  },
  {
   "cell_type": "code",
   "execution_count": 11,
   "metadata": {},
   "outputs": [
    {
     "name": "stdout",
     "output_type": "stream",
     "text": [
      "\n",
      "Suspicious Activity Detected:\n",
      "IP Address \t Failed Login Attempts\n"
     ]
    }
   ],
   "source": [
    "def getSuspiciousActivity(fileContent:list,threshold=10):\n",
    "    ipFreq = {}\n",
    "\n",
    "    for req in fileContent:\n",
    "        \n",
    "        if req[5] == \"401\" or req[len(req)-1]=='\"Invalid credentials\"\\n':\n",
    "            if req[0] in ipFreq.keys():\n",
    "                ipFreq[req[0]] +=1 \n",
    "            else:\n",
    "                ipFreq[req[0]] =1 \n",
    "    newIpFreq = {}\n",
    "    for i in ipFreq.keys():\n",
    "        if ipFreq[i] > threshold:\n",
    "            newIpFreq[i] = ipFreq[i]\n",
    "    \n",
    "    \n",
    "    print(\"\\nSuspicious Activity Detected:\")\n",
    "    print(\"IP Address\",\"\\t\", \"Failed Login Attempts\")\n",
    "    for i in newIpFreq.keys():\n",
    "        print(i,\"\\t\",newIpFreq[i])\n",
    "    \n",
    "    return newIpFreq\n",
    "\n",
    "\n",
    "IpFreq = getSuspiciousActivity(fileContent)"
   ]
  },
  {
   "cell_type": "markdown",
   "metadata": {},
   "source": [
    "# Output a CSV File:"
   ]
  },
  {
   "cell_type": "code",
   "execution_count": null,
   "metadata": {},
   "outputs": [],
   "source": [
    "output_file = \"log_analysis_results.csv\"\n",
    "\n",
    "with open(output_file, mode=\"w\", newline=\"\") as file:\n",
    "    writer = csv.writer(file)\n",
    "    \n",
    "    writer.writerow([\"Requests per IP\"])\n",
    "    writer.writerow([\"IP Address\", \"Request Count\"])\n",
    "    for ip, count in reqIPfreq.items():\n",
    "        writer.writerow([ip, count])\n",
    "    writer.writerow([])\n",
    "    \n",
    "    writer.writerow([\"Most Accessed Endpoint\"])\n",
    "    writer.writerow([\"Endpoint\", \"Access Count\"])\n",
    "    for endpoint, count in urlFreq.items():\n",
    "        writer.writerow([endpoint, count])\n",
    "    writer.writerow([])\n",
    "    \n",
    "    writer.writerow([\"Suspicious Activity\"])\n",
    "    writer.writerow([\"IP Address\", \"Failed Login Count\"])\n",
    "    for ip, count in IpFreq.items():\n",
    "        writer.writerow([ip, count])\n"
   ]
  },
  {
   "cell_type": "code",
   "execution_count": null,
   "metadata": {},
   "outputs": [
    {
     "name": "stdout",
     "output_type": "stream",
     "text": [
      "                           Requests per IP\n",
      "IP Address                   Request Count\n",
      "203.0.113.5                              8\n",
      "198.51.100.23                            8\n",
      "192.168.1.1                              7\n",
      "10.0.0.2                                 6\n",
      "192.168.1.100                            5\n",
      "Most Accessed Endpoint                 NaN\n",
      "Endpoint                      Access Count\n",
      "/login                                  13\n",
      "Suspicious Activity                    NaN\n",
      "IP Address              Failed Login Count\n"
     ]
    }
   ],
   "source": [
    "df = pd.read_csv(output_file)\n",
    "\n",
    "# print(df)"
   ]
  }
 ],
 "metadata": {
  "kernelspec": {
   "display_name": "Python 3",
   "language": "python",
   "name": "python3"
  },
  "language_info": {
   "codemirror_mode": {
    "name": "ipython",
    "version": 3
   },
   "file_extension": ".py",
   "mimetype": "text/x-python",
   "name": "python",
   "nbconvert_exporter": "python",
   "pygments_lexer": "ipython3",
   "version": "3.11.1"
  }
 },
 "nbformat": 4,
 "nbformat_minor": 2
}
