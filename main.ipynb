{
 "cells": [
  {
   "cell_type": "markdown",
   "metadata": {},
   "source": [
    "# Parsing File and Taking Input"
   ]
  },
  {
   "cell_type": "code",
   "execution_count": 2,
   "metadata": {},
   "outputs": [],
   "source": [
    "import pandas as pd\n",
    "import fileinput"
   ]
  },
  {
   "cell_type": "code",
   "execution_count": 3,
   "metadata": {},
   "outputs": [],
   "source": [
    "def sortDictionary(freq:dict,reverse=False):\n",
    "    return {k: v for k, v in sorted(freq.items(), key=lambda item: item[1],reverse=reverse)}"
   ]
  },
  {
   "cell_type": "code",
   "execution_count": 4,
   "metadata": {},
   "outputs": [],
   "source": [
    "def makeDFfromDict(freq:dict,columns:list):\n",
    "    return pd.DataFrame(list(freq.items()),columns=columns)"
   ]
  },
  {
   "cell_type": "code",
   "execution_count": 5,
   "metadata": {},
   "outputs": [],
   "source": [
    "\n",
    "filename = 'sample.log'\n",
    "fileContent = []\n",
    "\n",
    "for line in fileinput.input(files=filename):\n",
    "    stringAdded = line.split(' ')\n",
    "    stringAdded.remove('-')\n",
    "    stringAdded.remove('-')\n",
    "    stringAdded[1] += ' '+stringAdded[2]\n",
    "    stringAdded.pop(2)\n",
    "    fileContent.append(stringAdded)\n",
    "\n",
    "# fileContent\n"
   ]
  },
  {
   "cell_type": "markdown",
   "metadata": {},
   "source": [
    "# 1. Count Requests per IP Address:"
   ]
  },
  {
   "cell_type": "code",
   "execution_count": 6,
   "metadata": {},
   "outputs": [
    {
     "name": "stdout",
     "output_type": "stream",
     "text": [
      "{'203.0.113.5': 8, '198.51.100.23': 8, '192.168.1.1': 7, '10.0.0.2': 6, '192.168.1.100': 5}\n"
     ]
    }
   ],
   "source": [
    "freq = {}\n",
    "for stringAdded in fileContent:\n",
    "    if stringAdded[0] in freq.keys():\n",
    "        freq[stringAdded[0]] +=1\n",
    "    else:\n",
    "        freq[stringAdded[0]] = 1\n",
    "freq = sortDictionary(freq,reverse=True)\n",
    "print(freq)\n",
    "\n",
    "\n"
   ]
  },
  {
   "cell_type": "code",
   "execution_count": 7,
   "metadata": {},
   "outputs": [
    {
     "data": {
      "text/html": [
       "<div>\n",
       "<style scoped>\n",
       "    .dataframe tbody tr th:only-of-type {\n",
       "        vertical-align: middle;\n",
       "    }\n",
       "\n",
       "    .dataframe tbody tr th {\n",
       "        vertical-align: top;\n",
       "    }\n",
       "\n",
       "    .dataframe thead th {\n",
       "        text-align: right;\n",
       "    }\n",
       "</style>\n",
       "<table border=\"1\" class=\"dataframe\">\n",
       "  <thead>\n",
       "    <tr style=\"text-align: right;\">\n",
       "      <th></th>\n",
       "      <th>IP Address</th>\n",
       "      <th>Request</th>\n",
       "    </tr>\n",
       "  </thead>\n",
       "  <tbody>\n",
       "    <tr>\n",
       "      <th>0</th>\n",
       "      <td>203.0.113.5</td>\n",
       "      <td>8</td>\n",
       "    </tr>\n",
       "    <tr>\n",
       "      <th>1</th>\n",
       "      <td>198.51.100.23</td>\n",
       "      <td>8</td>\n",
       "    </tr>\n",
       "    <tr>\n",
       "      <th>2</th>\n",
       "      <td>192.168.1.1</td>\n",
       "      <td>7</td>\n",
       "    </tr>\n",
       "    <tr>\n",
       "      <th>3</th>\n",
       "      <td>10.0.0.2</td>\n",
       "      <td>6</td>\n",
       "    </tr>\n",
       "    <tr>\n",
       "      <th>4</th>\n",
       "      <td>192.168.1.100</td>\n",
       "      <td>5</td>\n",
       "    </tr>\n",
       "  </tbody>\n",
       "</table>\n",
       "</div>"
      ],
      "text/plain": [
       "     IP Address   Request\n",
       "0    203.0.113.5        8\n",
       "1  198.51.100.23        8\n",
       "2    192.168.1.1        7\n",
       "3       10.0.0.2        6\n",
       "4  192.168.1.100        5"
      ]
     },
     "execution_count": 7,
     "metadata": {},
     "output_type": "execute_result"
    }
   ],
   "source": [
    "df = pd.DataFrame(list(freq.items()),columns=[\"IP Address \",\"Request\"])\n",
    "\n",
    "df\n"
   ]
  },
  {
   "cell_type": "markdown",
   "metadata": {},
   "source": [
    "# 2. Identify the Most Frequently Accessed Endpoint:"
   ]
  },
  {
   "cell_type": "code",
   "execution_count": 8,
   "metadata": {},
   "outputs": [
    {
     "name": "stdout",
     "output_type": "stream",
     "text": [
      "Most Frequently Accessed Endpoint:\n",
      "/login Accessed 13 times\n"
     ]
    }
   ],
   "source": [
    "urlFreq = {}\n",
    "\n",
    "\n",
    "for req in fileContent:\n",
    "    url = req[3]\n",
    "    if url in urlFreq.keys():\n",
    "        urlFreq[url] +=1\n",
    "    else:\n",
    "        urlFreq[url] = 1\n",
    "urlFreq = sortDictionary(urlFreq,reverse=True)\n",
    "\n",
    "print(\"Most Frequently Accessed Endpoint:\")\n",
    "print(list(urlFreq.keys())[0],\"Accessed\",urlFreq[list(urlFreq.keys())[0]],\"times\")\n"
   ]
  },
  {
   "cell_type": "markdown",
   "metadata": {},
   "source": [
    "# 3. Detect Suspicious Activity:"
   ]
  },
  {
   "cell_type": "code",
   "execution_count": 28,
   "metadata": {},
   "outputs": [
    {
     "name": "stdout",
     "output_type": "stream",
     "text": [
      "Suspicious Activity Detected:\n",
      "IP Address \t Failed Login Attempts\n",
      "203.0.113.5 \t 8\n"
     ]
    }
   ],
   "source": [
    "def getSuspiciousActivity(fileContent:list,threshold=10):\n",
    "    ipFreq = {}\n",
    "\n",
    "    for req in fileContent:\n",
    "        \n",
    "        if req[5] == \"401\":\n",
    "            if req[0] in ipFreq.keys():\n",
    "                ipFreq[req[0]] +=1 \n",
    "            else:\n",
    "                ipFreq[req[0]] =1 \n",
    "    newIpFreq = {}\n",
    "    for i in ipFreq.keys():\n",
    "        if ipFreq[i] > threshold:\n",
    "            newIpFreq[i] = ipFreq[i]\n",
    "    \n",
    "    \n",
    "    print(\"Suspicious Activity Detected:\")\n",
    "    print(\"IP Address\",\"\\t\", \"Failed Login Attempts\")\n",
    "    for i in newIpFreq.keys():\n",
    "        print(i,\"\\t\",newIpFreq[i])\n",
    "    \n",
    "\n",
    "\n",
    "getSuspiciousActivity(fileContent,threshold=5)"
   ]
  }
 ],
 "metadata": {
  "kernelspec": {
   "display_name": "Python 3",
   "language": "python",
   "name": "python3"
  },
  "language_info": {
   "codemirror_mode": {
    "name": "ipython",
    "version": 3
   },
   "file_extension": ".py",
   "mimetype": "text/x-python",
   "name": "python",
   "nbconvert_exporter": "python",
   "pygments_lexer": "ipython3",
   "version": "3.11.1"
  }
 },
 "nbformat": 4,
 "nbformat_minor": 2
}
